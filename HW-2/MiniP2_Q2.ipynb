{
  "cells": [
    {
      "cell_type": "markdown",
      "metadata": {
        "id": "view-in-github",
        "colab_type": "text"
      },
      "source": [
        "<a href=\"https://colab.research.google.com/github/Vite-Noiz/Machine-Learning-Course/blob/main/My%20HW/MiniP2/MiniP2_Q2.ipynb\" target=\"_parent\"><img src=\"https://colab.research.google.com/assets/colab-badge.svg\" alt=\"Open In Colab\"/></a>"
      ]
    },
    {
      "cell_type": "code",
      "execution_count": null,
      "id": "3d4022a4",
      "metadata": {
        "colab": {
          "base_uri": "https://localhost:8080/"
        },
        "id": "3d4022a4",
        "outputId": "52c5a8bb-1a13-4fc0-f00b-676d071b75fc"
      },
      "outputs": [
        {
          "output_type": "stream",
          "name": "stdout",
          "text": [
            "min value: 0.0\n",
            "max value: 1.0\n"
          ]
        }
      ],
      "source": [
        "'''\n",
        "Normalizing\n",
        "'''\n",
        "from sklearn.datasets import fetch_openml\n",
        "from sklearn.preprocessing import MinMaxScaler\n",
        "\n",
        "# Loading MNIST\n",
        "mnist = fetch_openml('mnist_784', version=1)\n",
        "X, y = mnist[\"data\"], mnist[\"target\"]\n",
        "\n",
        "# chose 10000 simple\n",
        "X_test = X[60000:]\n",
        "y_test = y[60000:]\n",
        "\n",
        "# Scaling\n",
        "scaler = MinMaxScaler()\n",
        "X_test_scaled = scaler.fit_transform(X_test)\n",
        "\n",
        "# check normalizting is true!\n",
        "print(\"min value:\", X_test_scaled.min())\n",
        "print(\"max value:\", X_test_scaled.max())"
      ]
    },
    {
      "cell_type": "code",
      "source": [
        "X.shape, y.shape"
      ],
      "metadata": {
        "id": "r6FmLwcU1HD-",
        "outputId": "004c824a-cc5f-4e72-cb68-978e1f3471da",
        "colab": {
          "base_uri": "https://localhost:8080/"
        }
      },
      "id": "r6FmLwcU1HD-",
      "execution_count": null,
      "outputs": [
        {
          "output_type": "execute_result",
          "data": {
            "text/plain": [
              "((70000, 784), (70000,))"
            ]
          },
          "metadata": {},
          "execution_count": 8
        }
      ]
    },
    {
      "cell_type": "code",
      "execution_count": null,
      "id": "16e539ac",
      "metadata": {
        "id": "16e539ac",
        "outputId": "0fe56430-a510-448d-b271-b60ae8d5817a",
        "colab": {
          "base_uri": "https://localhost:8080/"
        }
      },
      "outputs": [
        {
          "output_type": "stream",
          "name": "stdout",
          "text": [
            "Shape train data: (7000, 784)\n",
            "Shape test data: (3000, 784)\n"
          ]
        }
      ],
      "source": [
        "'''\n",
        "Spliting data\n",
        "'''\n",
        "from sklearn.model_selection import train_test_split\n",
        "X_train, X_test_new, y_train, y_test_new = train_test_split(\n",
        "    X_test_scaled,\n",
        "    y_test,\n",
        "    test_size=0.3,\n",
        "    random_state=42,\n",
        "    stratify=y_test\n",
        ")\n",
        "\n",
        "# Check shape\n",
        "print(\"Shape train data:\", X_train.shape)\n",
        "print(\"Shape test data:\", X_test_new.shape)"
      ]
    },
    {
      "cell_type": "code",
      "execution_count": null,
      "id": "152ea9a7",
      "metadata": {
        "id": "152ea9a7",
        "outputId": "e726b0bd-b059-43e3-a78d-118c781336e5"
      },
      "outputs": [
        {
          "name": "stdout",
          "output_type": "stream",
          "text": [
            "k = 1: accuracy = 0.9507\n",
            "k = 3: accuracy = 0.9470\n",
            "k = 5: accuracy = 0.9400\n",
            "k = 7: accuracy = 0.9363\n",
            "k = 9: accuracy = 0.9353\n",
            "k = 11: accuracy = 0.9320\n",
            "k = 13: accuracy = 0.9313\n",
            "k = 15: accuracy = 0.9307\n",
            "k = 17: accuracy = 0.9287\n",
            "k = 19: accuracy = 0.9260\n",
            "k = 21: accuracy = 0.9243\n",
            "k = 23: accuracy = 0.9253\n",
            "k = 25: accuracy = 0.9200\n",
            "\n",
            "best value for k: 1 accuracy 0.9507\n"
          ]
        },
        {
          "data": {
            "image/png": "[encoded data removed]",
            "text/plain": [
              "<Figure size 720x432 with 1 Axes>"
            ]
          },
          "metadata": {
            "needs_background": "light"
          },
          "output_type": "display_data"
        }
      ],
      "source": [
        "from sklearn.neighbors import KNeighborsClassifier\n",
        "from sklearn.metrics import accuracy_score\n",
        "import matplotlib.pyplot as plt\n",
        "\n",
        "k_values = list(range(1, 26, 2))\n",
        "accuracies = []\n",
        "\n",
        "for k in k_values:\n",
        "    knn = KNeighborsClassifier(n_neighbors=k)\n",
        "    knn.fit(X_train, y_train)\n",
        "    y_pred = knn.predict(X_test_new)\n",
        "    accuracy = accuracy_score(y_test_new, y_pred)\n",
        "    accuracies.append(accuracy)\n",
        "    print(f'k = {k}: accuracy = {accuracy:.4f}')\n",
        "\n",
        "# find best k\n",
        "best_k = k_values[accuracies.index(max(accuracies))]\n",
        "print(f'\\nbest value for k: {best_k} accuracy {max(accuracies):.4f}')\n",
        "\n",
        "# plot accuracy for each k\n",
        "plt.figure(figsize=(10, 6))\n",
        "plt.plot(k_values, accuracies, marker='o', linestyle='--', color='b')\n",
        "plt.xlabel('k', fontsize=12)\n",
        "plt.ylabel('accuracy', fontsize=12)\n",
        "plt.title('KNN for each k', fontsize=14)\n",
        "plt.xticks(k_values)\n",
        "plt.grid(True)\n",
        "plt.show()"
      ]
    },
    {
      "cell_type": "code",
      "execution_count": null,
      "id": "e3f9b767",
      "metadata": {
        "id": "e3f9b767",
        "outputId": "2f767eb9-a8aa-46af-e32e-61f082197450"
      },
      "outputs": [
        {
          "name": "stdout",
          "output_type": "stream",
          "text": [
            "Component: 20 | accuracy: 0.9490\n",
            "Component: 40 | accuracy: 0.9517\n",
            "Component: 60 | accuracy: 0.9543\n",
            "Component: 80 | accuracy: 0.9530\n",
            "Component: 100 | accuracy: 0.9523\n"
          ]
        },
        {
          "data": {
            "image/png": "[encoded data removed]",
            "text/plain": [
              "<Figure size 720x432 with 1 Axes>"
            ]
          },
          "metadata": {
            "needs_background": "light"
          },
          "output_type": "display_data"
        }
      ],
      "source": [
        "'''\n",
        "Apply PCA\n",
        "'''\n",
        "from sklearn.decomposition import PCA\n",
        "\n",
        "components = [20, 40, 60, 80, 100]\n",
        "accuracies = []\n",
        "\n",
        "for n in components:\n",
        "    # PCA dim reduction\n",
        "    pca = PCA(n_components=n)\n",
        "    X_train_pca = pca.fit_transform(X_train)\n",
        "    X_test_pca = pca.transform(X_test_new)\n",
        "\n",
        "    # KNN with k = 3\n",
        "    knn = KNeighborsClassifier(n_neighbors=3)\n",
        "    knn.fit(X_train_pca, y_train)\n",
        "    y_pred = knn.predict(X_test_pca)\n",
        "\n",
        "    # Calc accuracy\n",
        "    accuracy = accuracy_score(y_test_new, y_pred)\n",
        "    accuracies.append(accuracy)\n",
        "    print(f'Component: {n} | accuracy: {accuracy:.4f}')\n",
        "\n",
        "# 5. Plot Apply PCA\n",
        "plt.figure(figsize=(10, 6))\n",
        "plt.plot(components, accuracies, marker='o', linestyle='--', color='green')\n",
        "plt.xlabel('Number of PCA', fontsize=12)\n",
        "plt.ylabel('Accuracy', fontsize=12)\n",
        "plt.title('KNN accuracy with apply diffrent PCA', fontsize=14)\n",
        "plt.xticks(components)\n",
        "plt.grid(True)\n",
        "plt.show()"
      ]
    }
  ],
  "metadata": {
    "kernelspec": {
      "display_name": "Python 3 (ipykernel)",
      "language": "python",
      "name": "python3"
    },
    "language_info": {
      "codemirror_mode": {
        "name": "ipython",
        "version": 3
      },
      "file_extension": ".py",
      "mimetype": "text/x-python",
      "name": "python",
      "nbconvert_exporter": "python",
      "pygments_lexer": "ipython3",
      "version": "3.8.5"
    },
    "colab": {
      "provenance": [],
      "include_colab_link": true
    }
  },
  "nbformat": 4,
  "nbformat_minor": 5
}
