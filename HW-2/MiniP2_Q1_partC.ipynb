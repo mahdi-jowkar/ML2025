{
  "cells": [
    {
      "cell_type": "markdown",
      "metadata": {
        "id": "view-in-github",
        "colab_type": "text"
      },
      "source": [
        "<a href=\"https://colab.research.google.com/github/Vite-Noiz/Machine-Learning-Course/blob/main/My%20HW/MiniP2/MiniP2_Q1_partC.ipynb\" target=\"_parent\"><img src=\"https://colab.research.google.com/assets/colab-badge.svg\" alt=\"Open In Colab\"/></a>"
      ]
    },
    {
      "cell_type": "code",
      "execution_count": null,
      "id": "d4fba1fe",
      "metadata": {
        "id": "d4fba1fe"
      },
      "outputs": [],
      "source": [
        "import csv\n",
        "import re\n",
        "from collections import defaultdict\n",
        "\n",
        "# Read Spam.csv file\n",
        "data = []\n",
        "with open('spam.csv', 'r', encoding='Windows-1252') as f:\n",
        "    reader = csv.reader(f)\n",
        "    next(reader)\n",
        "    for row in reader:\n",
        "        if row:\n",
        "            label = row[0]\n",
        "            text = row[1]\n",
        "            data.append((label, text))\n",
        "\n",
        "# Text Cleaning\n",
        "def clean_text(text):\n",
        "    text = re.sub(r'[^\\w\\s]', '', text)\n",
        "    text = text.lower()\n",
        "    return text\n",
        "\n",
        "# make list\n",
        "cleaned_data = [(label, clean_text(text)) for (label, text) in data]"
      ]
    },
    {
      "cell_type": "code",
      "execution_count": null,
      "id": "980ac19d",
      "metadata": {
        "id": "980ac19d"
      },
      "outputs": [],
      "source": [
        "# Spliting Data\n",
        "split_ratio = 0.8\n",
        "split_idx = int(len(cleaned_data) * split_ratio)\n",
        "train_data = cleaned_data[:split_idx]\n",
        "test_data = cleaned_data[split_idx:]"
      ]
    },
    {
      "cell_type": "code",
      "execution_count": null,
      "id": "4b520f4e",
      "metadata": {
        "id": "4b520f4e"
      },
      "outputs": [],
      "source": [
        "class MultinomialNaiveBayes:\n",
        "    def __init__(self):\n",
        "        self.class_counts = defaultdict(int)  # num of class\n",
        "        self.word_counts = defaultdict(lambda: defaultdict(int))  # num of word in each class\n",
        "        self.class_probs = defaultdict(float)  # each class probility\n",
        "        self.word_probs = defaultdict(lambda: defaultdict(float))  # probility of each word in class\n",
        "\n",
        "    def train(self, train_data):\n",
        "        # total class and word\n",
        "        total_docs = len(train_data)\n",
        "        vocabulary = set()\n",
        "\n",
        "        for label, text in train_data:\n",
        "            self.class_counts[label] += 1\n",
        "            words = text.split()\n",
        "            for word in words:\n",
        "                self.word_counts[label][word] += 1\n",
        "                vocabulary.add(word)\n",
        "\n",
        "        for label in self.class_counts:\n",
        "            self.class_probs[label] = (self.class_counts[label] + 1) / (total_docs + len(self.class_counts))\n",
        "\n",
        "        for label in self.class_counts:\n",
        "            total_words_in_class = sum(self.word_counts[label].values())\n",
        "            vocab_size = len(vocabulary)\n",
        "            for word in vocabulary:\n",
        "                count = self.word_counts[label][word] + 1  # اسموثینگ\n",
        "                self.word_probs[label][word] = count / (total_words_in_class + vocab_size)\n",
        "\n",
        "    def predict(self, text):\n",
        "        words = text.split()\n",
        "        max_prob = -float('inf')\n",
        "        best_label = None\n",
        "\n",
        "        for label in self.class_probs:\n",
        "            log_prob = np.log(self.class_probs[label])\n",
        "            for word in words:\n",
        "                if word in self.word_probs[label]:\n",
        "                    log_prob += np.log(self.word_probs[label][word])\n",
        "                else:\n",
        "                    pass  # Ignore unknown word\n",
        "            if log_prob > max_prob:\n",
        "                max_prob = log_prob\n",
        "                best_label = label\n",
        "        return best_label\n",
        "\n",
        "# Traning Model\n",
        "model = MultinomialNaiveBayes()\n",
        "model.train(train_data)"
      ]
    },
    {
      "cell_type": "code",
      "execution_count": null,
      "id": "4040ed4d",
      "metadata": {
        "id": "4040ed4d"
      },
      "outputs": [],
      "source": [
        "# Evaluate Model\n",
        "import numpy as np\n",
        "def evaluate_model(test_data, model):\n",
        "    confusion_matrix = {'TP': 0, 'TN': 0, 'FP': 0, 'FN': 0}\n",
        "\n",
        "    for true_label, text in test_data:\n",
        "        pred_label = model.predict(text)\n",
        "\n",
        "        if true_label == 'spam':\n",
        "            if pred_label == 'spam':\n",
        "                confusion_matrix['TP'] += 1\n",
        "            else:\n",
        "                confusion_matrix['FN'] += 1\n",
        "        else:\n",
        "            if pred_label == 'ham':\n",
        "                confusion_matrix['TN'] += 1\n",
        "            else:\n",
        "                confusion_matrix['FP'] += 1\n",
        "\n",
        "    accuracy = (confusion_matrix['TP'] + confusion_matrix['TN']) / len(test_data)\n",
        "\n",
        "    # Precision\n",
        "    if confusion_matrix['TP'] + confusion_matrix['FP'] == 0:\n",
        "        precision = 0\n",
        "    else:\n",
        "        precision = confusion_matrix['TP'] / (confusion_matrix['TP'] + confusion_matrix['FP'])\n",
        "\n",
        "    # Recall\n",
        "    if confusion_matrix['TP'] + confusion_matrix['FN'] == 0:\n",
        "        recall = 0\n",
        "    else:\n",
        "        recall = confusion_matrix['TP'] / (confusion_matrix['TP'] + confusion_matrix['FN'])\n",
        "\n",
        "    # F1-Score\n",
        "    if precision + recall == 0:\n",
        "        f1 = 0\n",
        "    else:\n",
        "        f1 = 2 * (precision * recall) / (precision + recall)\n",
        "\n",
        "    return confusion_matrix, accuracy, precision, recall, f1\n",
        "\n",
        "conf_matrix, acc, prec, rec, f1 = evaluate_model(test_data, model)"
      ]
    },
    {
      "cell_type": "code",
      "execution_count": null,
      "id": "dcdc1e44",
      "metadata": {
        "id": "dcdc1e44",
        "outputId": "5e9f965a-4a53-4144-db6d-74673918351f"
      },
      "outputs": [
        {
          "name": "stdout",
          "output_type": "stream",
          "text": [
            "Accuracy of Model is: 98.21%\n",
            "- Confusion Matrix:\n",
            "  TP: 131 | FP: 6\n",
            "  FN: 14 | TN: 964\n",
            "- Accuracy: 98.21%\n",
            "- Precision: 95.62%\n",
            "- Recall: 90.34%\n",
            "- F1 score: 92.91%\n"
          ]
        }
      ],
      "source": [
        "# Accuracy\n",
        "import numpy as np\n",
        "correct = 0\n",
        "total = len(test_data)\n",
        "for label, text in test_data:\n",
        "    prediction = model.predict(text)\n",
        "    if prediction == label:\n",
        "        correct += 1\n",
        "\n",
        "accuracy = (correct / total) * 100\n",
        "print(f'Accuracy of Model is: {accuracy:.2f}%')\n",
        "\n",
        "print(f\"- Confusion Matrix:\")\n",
        "print(f\"  TP: {conf_matrix['TP']} | FP: {conf_matrix['FP']}\")\n",
        "print(f\"  FN: {conf_matrix['FN']} | TN: {conf_matrix['TN']}\")\n",
        "print(f\"- Accuracy: {acc * 100:.2f}%\")\n",
        "print(f\"- Precision: {prec * 100:.2f}%\")\n",
        "print(f\"- Recall: {rec * 100:.2f}%\")\n",
        "print(f\"- F1 score: {f1 * 100:.2f}%\")"
      ]
    }
  ],
  "metadata": {
    "kernelspec": {
      "display_name": "Python 3 (ipykernel)",
      "language": "python",
      "name": "python3"
    },
    "language_info": {
      "codemirror_mode": {
        "name": "ipython",
        "version": 3
      },
      "file_extension": ".py",
      "mimetype": "text/x-python",
      "name": "python",
      "nbconvert_exporter": "python",
      "pygments_lexer": "ipython3",
      "version": "3.8.5"
    },
    "colab": {
      "provenance": [],
      "include_colab_link": true
    }
  },
  "nbformat": 4,
  "nbformat_minor": 5
}
