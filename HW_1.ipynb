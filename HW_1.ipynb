{
  "nbformat": 4,
  "nbformat_minor": 0,
  "metadata": {
    "colab": {
      "provenance": [],
      "toc_visible": true,
      "authorship_tag": "ABX9TyOflHn7NVL5cSPszSvcdG2q",
      "include_colab_link": true
    },
    "kernelspec": {
      "name": "python3",
      "display_name": "Python 3"
    },
    "language_info": {
      "name": "python"
    }
  },
  "cells": [
    {
      "cell_type": "markdown",
      "metadata": {
        "id": "view-in-github",
        "colab_type": "text"
      },
      "source": [
        "<a href=\"https://colab.research.google.com/github/mahdi-jowkar/ML2025/blob/main/HW_1.ipynb\" target=\"_parent\"><img src=\"https://colab.research.google.com/assets/colab-badge.svg\" alt=\"Open In Colab\"/></a>"
      ]
    },
    {
      "cell_type": "code",
      "execution_count": 1,
      "metadata": {
        "colab": {
          "base_uri": "https://localhost:8080/"
        },
        "id": "LFKcGcTjGTj6",
        "outputId": "85cb81db-f264-4f25-ea6d-79e8aa80e8c3"
      },
      "outputs": [
        {
          "output_type": "stream",
          "name": "stdout",
          "text": [
            "Requirement already satisfied: gdown in /usr/local/lib/python3.11/dist-packages (5.2.0)\n",
            "Requirement already satisfied: beautifulsoup4 in /usr/local/lib/python3.11/dist-packages (from gdown) (4.13.3)\n",
            "Requirement already satisfied: filelock in /usr/local/lib/python3.11/dist-packages (from gdown) (3.17.0)\n",
            "Requirement already satisfied: requests[socks] in /usr/local/lib/python3.11/dist-packages (from gdown) (2.32.3)\n",
            "Requirement already satisfied: tqdm in /usr/local/lib/python3.11/dist-packages (from gdown) (4.67.1)\n",
            "Requirement already satisfied: soupsieve>1.2 in /usr/local/lib/python3.11/dist-packages (from beautifulsoup4->gdown) (2.6)\n",
            "Requirement already satisfied: typing-extensions>=4.0.0 in /usr/local/lib/python3.11/dist-packages (from beautifulsoup4->gdown) (4.12.2)\n",
            "Requirement already satisfied: charset-normalizer<4,>=2 in /usr/local/lib/python3.11/dist-packages (from requests[socks]->gdown) (3.4.1)\n",
            "Requirement already satisfied: idna<4,>=2.5 in /usr/local/lib/python3.11/dist-packages (from requests[socks]->gdown) (3.10)\n",
            "Requirement already satisfied: urllib3<3,>=1.21.1 in /usr/local/lib/python3.11/dist-packages (from requests[socks]->gdown) (2.3.0)\n",
            "Requirement already satisfied: certifi>=2017.4.17 in /usr/local/lib/python3.11/dist-packages (from requests[socks]->gdown) (2025.1.31)\n",
            "Requirement already satisfied: PySocks!=1.5.7,>=1.5.6 in /usr/local/lib/python3.11/dist-packages (from requests[socks]->gdown) (1.7.1)\n"
          ]
        }
      ],
      "source": [
        "!pip install gdown"
      ]
    },
    {
      "cell_type": "markdown",
      "source": [
        "# CWRU Dataset"
      ],
      "metadata": {
        "id": "wWSi7sLQGjBr"
      }
    },
    {
      "cell_type": "code",
      "source": [
        "# Load Data\n",
        "import scipy.io\n",
        "!gdown 16ZTFQhjrBRMBS1pXrI5MStQOgBiSj67l\n",
        "data = scipy.io.loadmat('109.mat')\n",
        "\n",
        "print(type(data))\n",
        "for key in data:\n",
        "    print(f\"{key}: {type(data[key])}\")\n",
        "\n",
        "signal = data['X109_DE_time']\n",
        "\n",
        "print(signal)\n",
        "print(type(signal))\n",
        "print(signal.shape)"
      ],
      "metadata": {
        "colab": {
          "base_uri": "https://localhost:8080/"
        },
        "id": "6UzNPh-EGmIb",
        "outputId": "ad111957-216c-4543-f0b4-6c19b924a193"
      },
      "execution_count": 6,
      "outputs": [
        {
          "output_type": "stream",
          "name": "stdout",
          "text": [
            "Downloading...\n",
            "From (original): https://drive.google.com/uc?id=16ZTFQhjrBRMBS1pXrI5MStQOgBiSj67l\n",
            "From (redirected): https://drive.google.com/uc?id=16ZTFQhjrBRMBS1pXrI5MStQOgBiSj67l&confirm=t&uuid=e0d2fb1b-5b5f-44ed-8b1f-8ee75122a2b2\n",
            "To: /content/109.mat\n",
            "\r  0% 0.00/3.90M [00:00<?, ?B/s]\r100% 3.90M/3.90M [00:00<00:00, 156MB/s]\n",
            "<class 'dict'>\n",
            "__header__: <class 'bytes'>\n",
            "__version__: <class 'str'>\n",
            "__globals__: <class 'list'>\n",
            "X109_DE_time: <class 'numpy.ndarray'>\n",
            "X109_FE_time: <class 'numpy.ndarray'>\n",
            "X109RPM: <class 'numpy.ndarray'>\n",
            "[[ 0.010016  ]\n",
            " [-0.023788  ]\n",
            " [-0.00792933]\n",
            " ...\n",
            " [-0.085136  ]\n",
            " [-0.05800933]\n",
            " [ 0.00542533]]\n",
            "<class 'numpy.ndarray'>\n",
            "(243938, 1)\n"
          ]
        }
      ]
    }
  ]
}